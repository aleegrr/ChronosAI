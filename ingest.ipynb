{
 "cells": [
  {
   "cell_type": "code",
   "execution_count": 1,
   "id": "57b27460",
   "metadata": {},
   "outputs": [],
   "source": [
    "import os\n",
    "import sqlite3\n",
    "from langchain.text_splitter import MarkdownHeaderTextSplitter\n",
    "from langchain_chroma import Chroma\n",
    "from langchain_huggingface import HuggingFaceEmbeddings\n",
    "from langchain_core.documents import Document"
   ]
  },
  {
   "cell_type": "code",
   "execution_count": 2,
   "id": "42e6c56f",
   "metadata": {},
   "outputs": [
    {
     "name": "stderr",
     "output_type": "stream",
     "text": [
      "/home/alee/.local/share/virtualenvs/chronosAI-bGPFpNdy/lib/python3.13/site-packages/tqdm/auto.py:21: TqdmWarning: IProgress not found. Please update jupyter and ipywidgets. See https://ipywidgets.readthedocs.io/en/stable/user_install.html\n",
      "  from .autonotebook import tqdm as notebook_tqdm\n"
     ]
    }
   ],
   "source": [
    "# Embeddings configurados\n",
    "model_name = \"BAAI/bge-large-en\"\n",
    "model_kwargs = {\"device\": \"cpu\"}\n",
    "encode_kwargs = {\"normalize_embeddings\": False}\n",
    "\n",
    "embeddings = HuggingFaceEmbeddings(\n",
    "    model_name=model_name, model_kwargs=model_kwargs, encode_kwargs=encode_kwargs\n",
    ")"
   ]
  },
  {
   "cell_type": "markdown",
   "id": "d0948522",
   "metadata": {},
   "source": [
    "### ========== 1. CARGAR DOCUMENTO MARKDOWN =========="
   ]
  },
  {
   "cell_type": "code",
   "execution_count": 3,
   "id": "f483267c",
   "metadata": {},
   "outputs": [
    {
     "name": "stdout",
     "output_type": "stream",
     "text": [
      "✅ Archivo Markdown leído con éxito: data/politicaNominas.md\n",
      "✅ Vector store del archivo Markdown creado con éxito.\n"
     ]
    }
   ],
   "source": [
    "try:\n",
    "    file_path = 'data/politicaNominas.md'\n",
    "    if not os.path.exists(file_path):\n",
    "        raise FileNotFoundError(f\"Archivo no encontrado: {file_path}\")\n",
    "\n",
    "    with open(file_path, \"r\", encoding=\"utf-8\") as archivo:\n",
    "        contenido = archivo.read()\n",
    "        print(f\"✅ Archivo Markdown leído con éxito: {file_path}\")\n",
    "\n",
    "    headers_to_split_on = [(\"#\", \"Header\"), (\"##\", \"Title\")]\n",
    "    markdown_splitter = MarkdownHeaderTextSplitter(headers_to_split_on=headers_to_split_on)\n",
    "    md_header_splits = markdown_splitter.split_text(contenido)\n",
    "\n",
    "    vector_store_md = Chroma.from_documents(\n",
    "        md_header_splits,\n",
    "        embeddings,\n",
    "        collection_metadata={\"hnsw:space\": \"cosine\"},\n",
    "        persist_directory=\"data/stores/nominas\",\n",
    "    )\n",
    "    print(\"✅ Vector store del archivo Markdown creado con éxito.\")\n",
    "\n",
    "except Exception as e:\n",
    "    print(f\"❌ Error procesando el archivo Markdown: {e}\")"
   ]
  },
  {
   "cell_type": "markdown",
   "id": "d4111adf",
   "metadata": {},
   "source": [
    "### ========== 2. CARGAR DATOS DE SQLITE =========="
   ]
  },
  {
   "cell_type": "code",
   "execution_count": 4,
   "id": "61d3c077",
   "metadata": {},
   "outputs": [
    {
     "name": "stdout",
     "output_type": "stream",
     "text": [
      "✅ Columnas encontradas: ['id_empleado', 'nombre', 'fecha_alta', 'departamento', 'cargo', 'salario_base', 'antiguedad', 'complemento_antiguedad', 'complemento_peligrosidad', 'complemento_nocturnidad', 'complemento_turnicidad', 'plus_transporte', 'horas_extras_mes_anterior', 'dietas_mes_anterior', 'porcentaje_irpf', 'pagas_extras', 'prorrateo_pagas_extras', 'cuenta_bancaria', 'convenio_colectivo', 'observaciones']\n",
      "✅ Vector store de empleados creado con éxito.\n"
     ]
    }
   ],
   "source": [
    "try:\n",
    "    DATABASE_PATH = 'data/empleados.db'\n",
    "    conn = sqlite3.connect(DATABASE_PATH)\n",
    "    cursor = conn.cursor()\n",
    "\n",
    "    # Obtener columnas\n",
    "    cursor.execute(\"PRAGMA table_info(empleados)\")\n",
    "    columnas = [col[1] for col in cursor.fetchall()]\n",
    "    if not columnas:\n",
    "        raise Exception(\"No se encontraron columnas en la tabla 'empleados'.\")\n",
    "    print(\"✅ Columnas encontradas:\", columnas)\n",
    "\n",
    "    # Leer todos los datos\n",
    "    query = \"SELECT * FROM empleados\"\n",
    "    cursor.execute(query)\n",
    "    data = cursor.fetchall()\n",
    "    if not data:\n",
    "        raise Exception(\"La tabla 'empleados' está vacía.\")\n",
    "\n",
    "    # Crear objetos Document\n",
    "    documents = []\n",
    "    for row in data:\n",
    "        content = \", \".join([f\"{columnas[i]}: {row[i]}\" for i in range(len(columnas))])\n",
    "        # Filtrar valores None del metadata\n",
    "        metadata = {k: v for k, v in zip(columnas, row) if v is not None}\n",
    "        documents.append(Document(page_content=content, metadata=metadata))\n",
    "\n",
    "    conn.close()\n",
    "\n",
    "    # Crear el vector store\n",
    "    vector_store_sql = Chroma.from_documents(\n",
    "        documents,\n",
    "        embeddings,\n",
    "        collection_metadata={\"hnsw:space\": \"cosine\"},\n",
    "        persist_directory=\"data/stores/empleados\",\n",
    "    )\n",
    "    print(\"✅ Vector store de empleados creado con éxito.\")\n",
    "\n",
    "except sqlite3.Error as e:\n",
    "    print(f\"❌ Error en la base de datos: {e}\")\n",
    "except Exception as e:\n",
    "    print(f\"❌ Error general: {e}\")\n"
   ]
  }
 ],
 "metadata": {
  "kernelspec": {
   "display_name": "chronosAI-bGPFpNdy",
   "language": "python",
   "name": "python3"
  },
  "language_info": {
   "codemirror_mode": {
    "name": "ipython",
    "version": 3
   },
   "file_extension": ".py",
   "mimetype": "text/x-python",
   "name": "python",
   "nbconvert_exporter": "python",
   "pygments_lexer": "ipython3",
   "version": "3.13.3"
  }
 },
 "nbformat": 4,
 "nbformat_minor": 5
}
