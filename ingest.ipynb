{
 "cells": [
  {
   "cell_type": "code",
   "execution_count": 1,
   "id": "57b27460",
   "metadata": {},
   "outputs": [],
   "source": [
    "import os\n",
    "from langchain.text_splitter import MarkdownHeaderTextSplitter\n",
    "from langchain_chroma import Chroma\n",
    "from langchain_community.embeddings import HuggingFaceBgeEmbeddings\n",
    "from langchain_core.documents import Document\n",
    "import sqlite3"
   ]
  },
  {
   "cell_type": "code",
   "execution_count": 2,
   "id": "42e6c56f",
   "metadata": {},
   "outputs": [
    {
     "name": "stderr",
     "output_type": "stream",
     "text": [
      "/tmp/ipykernel_12486/1698008280.py:4: LangChainDeprecationWarning: The class `HuggingFaceBgeEmbeddings` was deprecated in LangChain 0.2.2 and will be removed in 1.0. An updated version of the class exists in the :class:`~langchain-huggingface package and should be used instead. To use it run `pip install -U :class:`~langchain-huggingface` and import as `from :class:`~langchain_huggingface import HuggingFaceEmbeddings``.\n",
      "  embeddings = HuggingFaceBgeEmbeddings(\n",
      "/home/alee/.local/share/virtualenvs/chronosAI-bGPFpNdy/lib/python3.13/site-packages/tqdm/auto.py:21: TqdmWarning: IProgress not found. Please update jupyter and ipywidgets. See https://ipywidgets.readthedocs.io/en/stable/user_install.html\n",
      "  from .autonotebook import tqdm as notebook_tqdm\n"
     ]
    }
   ],
   "source": [
    "model_name = \"BAAI/bge-large-en\"\n",
    "model_kwargs = {\"device\": \"cpu\"}\n",
    "encode_kwargs = {\"normalize_embeddings\": False}\n",
    "embeddings = HuggingFaceBgeEmbeddings(\n",
    "    model_name=model_name, model_kwargs=model_kwargs, encode_kwargs=encode_kwargs\n",
    ")"
   ]
  },
  {
   "cell_type": "code",
   "execution_count": 3,
   "id": "f483267c",
   "metadata": {},
   "outputs": [
    {
     "name": "stdout",
     "output_type": "stream",
     "text": [
      "El directorio de trabajo actual es: /home/alee/Documents/MIA/chronosAI\n",
      "Se leyó el archivo 'data/politicaNominas.md'.\n"
     ]
    }
   ],
   "source": [
    "try:\n",
    "    file_path = 'data/politicaNominas.md'\n",
    "    print(f\"El directorio de trabajo actual es: {os.getcwd()}\")\n",
    "\n",
    "    with open(file_path, \"r\", encoding=\"utf-8\") as archivo:\n",
    "        contenido = archivo.read()\n",
    "        print(f\"Se leyó el archivo '{file_path}'.\")\n",
    "\n",
    "        headersToSplitOn = [(\"#\", \"Header\"), (\"##\", \"Title\")]\n",
    "\n",
    "        markdown_splitter = MarkdownHeaderTextSplitter(\n",
    "            headers_to_split_on=headersToSplitOn\n",
    "        )\n",
    "        md_header_splits = markdown_splitter.split_text(contenido)\n",
    "\n",
    "        for document in md_header_splits:\n",
    "            lista = []\n",
    "\n",
    "            # Extraer y mostrar los metadatos\n",
    "            metadata = document.metadata\n",
    "            page_content = document.page_content\n",
    "            for key, value in metadata.items():\n",
    "                lista.append(f\"{value}{page_content}\")\n",
    "                print(\n",
    "                    \"##########################################################################\"\n",
    "                )\n",
    "                print(f\"{value}{page_content}\")\n",
    "\n",
    "        vector_store = Chroma.from_documents(\n",
    "            md_header_splits,\n",
    "            embeddings,\n",
    "            collection_metadata={\"hnsw:space\": \"cosine\"},\n",
    "            persist_directory=\"data/stores/nominas\",\n",
    "        )\n",
    "\n",
    "except FileNotFoundError:\n",
    "    print(f\"El archivo '{file_path}' no se encontró.\")\n",
    "except Exception as e:\n",
    "    print(f\"Ocurrió un error al leer el archivo: {e}\")"
   ]
  },
  {
   "cell_type": "code",
   "execution_count": 4,
   "id": "6d00ed06",
   "metadata": {},
   "outputs": [],
   "source": [
    "model_name = \"BAAI/bge-large-en\"\n",
    "model_kwargs = {\"device\": \"cpu\"}\n",
    "encode_kwargs = {\"normalize_embeddings\": False}\n",
    "embeddings = HuggingFaceBgeEmbeddings(\n",
    "    model_name=model_name, model_kwargs=model_kwargs, encode_kwargs=encode_kwargs\n",
    ")"
   ]
  },
  {
   "cell_type": "code",
   "execution_count": 5,
   "id": "61d3c077",
   "metadata": {},
   "outputs": [
    {
     "name": "stdout",
     "output_type": "stream",
     "text": [
      "El directorio de trabajo actual es: /home/alee/Documents/MIA/chronosAI\n",
      "Conexión exitosa a la base de datos: data/empleados.db\n",
      "Se extrajeron 900 documentos de la tabla 'empleados'.\n",
      "Vector store creado en: data/stores/empleados\n"
     ]
    }
   ],
   "source": [
    "DATABASE_PATH = 'data/empleados.db'\n",
    "TABLE_NAME = 'empleados'\n",
    "COLUMNS_TO_EXTRACT = '*'\n",
    "\n",
    "try:\n",
    "    print(f\"El directorio de trabajo actual es: {os.getcwd()}\")\n",
    "\n",
    "    conn = sqlite3.connect(DATABASE_PATH)\n",
    "    cursor = conn.cursor()\n",
    "    print(f\"Conexión exitosa a la base de datos: {DATABASE_PATH}\")\n",
    "\n",
    "    select_columns = \", \".join(COLUMNS_TO_EXTRACT)\n",
    "    query = f\"SELECT {select_columns} FROM {TABLE_NAME}\"\n",
    "    cursor.execute(query)\n",
    "    data = cursor.fetchall()\n",
    "\n",
    "    documents = []\n",
    "    for row in data:\n",
    "        content = \", \".join([f\"{COLUMNS_TO_EXTRACT[i]}: {row[i]}\" for i in range(len(COLUMNS_TO_EXTRACT))])\n",
    "        metadata = dict(zip(COLUMNS_TO_EXTRACT, row))\n",
    "        # Crea un objeto Document en lugar de un diccionario\n",
    "        documents.append(Document(page_content=content, metadata=metadata))\n",
    "\n",
    "    conn.close()\n",
    "    print(f\"Se extrajeron {len(documents)} documentos de la tabla '{TABLE_NAME}'.\")\n",
    "\n",
    "    # Crear el vector store ahora con la lista de objetos Document\n",
    "    vector_store = Chroma.from_documents(\n",
    "        documents,\n",
    "        embeddings,\n",
    "        collection_metadata={\"hnsw:space\": \"cosine\"},\n",
    "        persist_directory=\"data/stores/empleados\",\n",
    "    )\n",
    "    print(f\"Vector store creado en: data/stores/empleados\")\n",
    "\n",
    "except sqlite3.Error as e:\n",
    "    print(f\"Error al interactuar con la base de datos: {e}\")\n",
    "except Exception as e:\n",
    "    print(f\"Ocurrió un error: {e}\")"
   ]
  }
 ],
 "metadata": {
  "kernelspec": {
   "display_name": "chronosAI-bGPFpNdy",
   "language": "python",
   "name": "python3"
  },
  "language_info": {
   "codemirror_mode": {
    "name": "ipython",
    "version": 3
   },
   "file_extension": ".py",
   "mimetype": "text/x-python",
   "name": "python",
   "nbconvert_exporter": "python",
   "pygments_lexer": "ipython3",
   "version": "3.13.3"
  }
 },
 "nbformat": 4,
 "nbformat_minor": 5
}
