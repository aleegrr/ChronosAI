{
 "cells": [
  {
   "cell_type": "code",
   "execution_count": 1,
   "id": "02a939f2",
   "metadata": {},
   "outputs": [],
   "source": [
    "import sqlite3\n",
    "from faker import Faker\n",
    "from datetime import date\n",
    "import random"
   ]
  },
  {
   "cell_type": "code",
   "execution_count": 2,
   "id": "8a78db22",
   "metadata": {},
   "outputs": [],
   "source": [
    "fake = Faker('es_ES')  # Inicializamos Faker para el idioma español"
   ]
  },
  {
   "cell_type": "code",
   "execution_count": 3,
   "id": "ab10acdc",
   "metadata": {},
   "outputs": [],
   "source": [
    "def crear_base_de_datos_empleados():\n",
    "    conn = sqlite3.connect('data/empleados.db')\n",
    "    cursor = conn.cursor()\n",
    "\n",
    "    # Crear la tabla empleados\n",
    "    cursor.execute('''\n",
    "        CREATE TABLE IF NOT EXISTS empleados (\n",
    "            id_empleado INTEGER PRIMARY KEY AUTOINCREMENT,\n",
    "            nombre TEXT NOT NULL,\n",
    "            fecha_alta DATE NOT NULL,\n",
    "            departamento TEXT NOT NULL,\n",
    "            cargo TEXT NOT NULL,\n",
    "            salario_base REAL NOT NULL,\n",
    "            antiguedad INTEGER NOT NULL,\n",
    "            complemento_antiguedad REAL DEFAULT 0.0,\n",
    "            complemento_peligrosidad REAL DEFAULT 0.0,\n",
    "            complemento_nocturnidad BOOLEAN DEFAULT FALSE,\n",
    "            complemento_turnicidad REAL DEFAULT 0.0,\n",
    "            plus_transporte REAL DEFAULT 0.0,\n",
    "            horas_extras_mes_anterior INTEGER DEFAULT 0,\n",
    "            dietas_mes_anterior REAL DEFAULT 0.0,\n",
    "            porcentaje_irpf REAL NOT NULL,\n",
    "            pagas_extras INTEGER DEFAULT 2,\n",
    "            prorrateo_pagas_extras BOOLEAN DEFAULT FALSE,\n",
    "            cuenta_bancaria TEXT NOT NULL,\n",
    "            convenio_colectivo TEXT DEFAULT 'Metal Provincia de Cádiz',\n",
    "            observaciones TEXT\n",
    "        )\n",
    "    ''')\n",
    "\n",
    "    departamentos = ['Producción', 'Ventas', 'Administración', 'Marketing', 'Recursos Humanos', 'Logística']\n",
    "    cargos_por_departamento = {\n",
    "        'Producción': ['Operario/a', 'Técnico/a de Mantenimiento', 'Supervisor/a de Producción', 'Ingeniero/a de Procesos'],\n",
    "        'Ventas': ['Comercial', 'Ejecutivo/a de Cuentas', 'Responsable de Ventas', 'Teleoperador/a'],\n",
    "        'Administración': ['Auxiliar Administrativo/a', 'Contable', 'Secretario/a de Dirección', 'Tesorero/a'],\n",
    "        'Marketing': ['Especialista en Marketing Digital', 'Diseñador/a Gráfico/a', 'Responsable de Marketing', 'Community Manager'],\n",
    "        'Recursos Humanos': ['Técnico/a de RRHH', 'Responsable de Selección', 'Gestor/a de Nóminas', 'Formador/a'],\n",
    "        'Logística': ['Mozo/a de Almacén', 'Carretillero/a', 'Jefe/a de Almacén', 'Planificador/a de Rutas']\n",
    "    }\n",
    "\n",
    "    salarios_base_por_cargo = {\n",
    "        'Operario/a': (1400, 1700),\n",
    "        'Técnico/a de Mantenimiento': (1700, 2200),\n",
    "        'Supervisor/a de Producción': (2100, 2600),\n",
    "        'Ingeniero/a de Procesos': (2500, 3500),\n",
    "        'Comercial': (1500, 2000),\n",
    "        'Ejecutivo/a de Cuentas': (1900, 2800),\n",
    "        'Responsable de Ventas': (2400, 3200),\n",
    "        'Teleoperador/a': (1300, 1600),\n",
    "        'Auxiliar Administrativo/a': (1350, 1750),\n",
    "        'Contable': (1700, 2500),\n",
    "        'Secretario/a de Dirección': (1600, 2200),\n",
    "        'Tesorero/a': (2000, 2800),\n",
    "        'Especialista en Marketing Digital': (1800, 2700),\n",
    "        'Diseñador/a Gráfico/a': (1650, 2400),\n",
    "        'Responsable de Marketing': (2600, 3400),\n",
    "        'Community Manager': (1550, 2100),\n",
    "        'Técnico/a de RRHH': (1750, 2500),\n",
    "        'Responsable de Selección': (2200, 3000),\n",
    "        'Gestor/a de Nóminas': (1650, 2300),\n",
    "        'Formador/a': (1800, 2600),\n",
    "        'Mozo/a de Almacén': (1300, 1550),\n",
    "        'Carretillero/a': (1450, 1800),\n",
    "        'Jefe/a de Almacén': (1900, 2500),\n",
    "        'Planificador/a de Rutas': (1700, 2300)\n",
    "    }\n",
    "\n",
    "    for _ in range(1, 151):\n",
    "        departamento = fake.random_element(elements=departamentos)\n",
    "        cargo = fake.random_element(elements=cargos_por_departamento[departamento])\n",
    "        fecha_alta = fake.date_between(start_date='-7y', end_date='-1y')\n",
    "        antiguedad = (date.today() - fecha_alta).days // 365\n",
    "        salario_base = round(random.uniform(salarios_base_por_cargo[cargo][0], salarios_base_por_cargo[cargo][1]), 2)\n",
    "\n",
    "        complemento_antiguedad = antiguedad * 25 if antiguedad > 0 else 0.0\n",
    "        complemento_peligrosidad = round(random.uniform(50, 150), 2) if random.random() < 0.1 else 0.0\n",
    "        complemento_nocturnidad = True if random.random() < 0.2 else False\n",
    "        complemento_turnicidad = round(random.uniform(30, 80), 2) if random.random() < 0.15 else 0.0\n",
    "        plus_transporte = round(random.uniform(50, 100), 2) if random.random() < 0.3 else 0.0\n",
    "        horas_extras_mes_anterior = random.randint(0, 10) if random.random() < 0.4 else 0\n",
    "        dietas_mes_anterior = round(random.uniform(0, 250), 2) if random.random() < 0.35 else 0.0\n",
    "        porcentaje_irpf = round(random.uniform(0.05, 0.25), 2)\n",
    "        prorrateo_pagas_extras = True if random.random() < 0.25 else False\n",
    "        cuenta_bancaria = fake.iban()\n",
    "        nombre = fake.name()\n",
    "\n",
    "        cursor.execute('''\n",
    "            INSERT INTO empleados (nombre, fecha_alta, departamento, cargo, salario_base, antiguedad,\n",
    "            complemento_antiguedad, complemento_peligrosidad, complemento_nocturnidad, complemento_turnicidad,\n",
    "            plus_transporte, horas_extras_mes_anterior, dietas_mes_anterior, porcentaje_irpf, pagas_extras,\n",
    "            prorrateo_pagas_extras, cuenta_bancaria, convenio_colectivo)\n",
    "            VALUES (?, ?, ?, ?, ?, ?, ?, ?, ?, ?, ?, ?, ?, ?, ?, ?, ?, ?)\n",
    "        ''', (nombre, fecha_alta, departamento, cargo, salario_base, antiguedad,\n",
    "              complemento_antiguedad, complemento_peligrosidad, complemento_nocturnidad, complemento_turnicidad,\n",
    "              plus_transporte, horas_extras_mes_anterior, dietas_mes_anterior, porcentaje_irpf, 2,\n",
    "              prorrateo_pagas_extras, cuenta_bancaria, 'Metal Provincia de Cádiz'))\n",
    "\n",
    "    conn.commit()\n",
    "    conn.close()\n",
    "    print(\"Base de datos 'empleados.db' creada con 150 empleados de ejemplo generados con Faker.\")\n"
   ]
  },
  {
   "cell_type": "code",
   "execution_count": 4,
   "id": "ddee60aa",
   "metadata": {},
   "outputs": [
    {
     "name": "stdout",
     "output_type": "stream",
     "text": [
      "Base de datos 'empleados.db' creada con 150 empleados de ejemplo generados con Faker.\n"
     ]
    },
    {
     "name": "stderr",
     "output_type": "stream",
     "text": [
      "/tmp/ipykernel_8153/140094221.py:87: DeprecationWarning: The default date adapter is deprecated as of Python 3.12; see the sqlite3 documentation for suggested replacement recipes\n",
      "  cursor.execute('''\n"
     ]
    }
   ],
   "source": [
    "if __name__ == \"__main__\":\n",
    "    crear_base_de_datos_empleados()"
   ]
  }
 ],
 "metadata": {
  "kernelspec": {
   "display_name": "chronosAI-bGPFpNdy",
   "language": "python",
   "name": "python3"
  },
  "language_info": {
   "codemirror_mode": {
    "name": "ipython",
    "version": 3
   },
   "file_extension": ".py",
   "mimetype": "text/x-python",
   "name": "python",
   "nbconvert_exporter": "python",
   "pygments_lexer": "ipython3",
   "version": "3.13.3"
  }
 },
 "nbformat": 4,
 "nbformat_minor": 5
}
