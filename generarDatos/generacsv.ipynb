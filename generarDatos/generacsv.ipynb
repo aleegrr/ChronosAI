{
 "cells": [
  {
   "cell_type": "code",
   "execution_count": 13,
   "id": "6d78383d",
   "metadata": {},
   "outputs": [],
   "source": [
    "import csv\n",
    "import random\n",
    "from faker import Faker\n",
    "from datetime import timedelta, datetime\n",
    "from collections import defaultdict, Counter"
   ]
  },
  {
   "cell_type": "markdown",
   "id": "0d6a0361",
   "metadata": {},
   "source": [
    "### CSV EMPLEADOS"
   ]
  },
  {
   "cell_type": "code",
   "execution_count": 14,
   "id": "a50a5a4c",
   "metadata": {},
   "outputs": [],
   "source": [
    "fake = Faker('es_ES')"
   ]
  },
  {
   "cell_type": "code",
   "execution_count": 15,
   "id": "80d9c539",
   "metadata": {},
   "outputs": [
    {
     "name": "stdout",
     "output_type": "stream",
     "text": [
      "El archivo 'empleados.csv' ha sido creado exitosamente.\n"
     ]
    }
   ],
   "source": [
    "num_empleados = 150\n",
    "roles = ['Dependiente', 'Jefe de sección', 'Jefe de tienda', 'Director de tienda', 'Gerente de tienda', 'Subdirector de tienda', 'Encargado de tienda']\n",
    "roles_criticos = ['Jefe de tienda', 'Director de tienda', 'Gerente de tienda']\n",
    "opciones_tf = ['Sí', 'No']\n",
    "\n",
    "empleados_data = []\n",
    "\n",
    "with open('../data/empleados.csv', 'w', newline='', encoding='utf-8') as archivo_csv:\n",
    "    writer = csv.writer(archivo_csv)\n",
    "    writer.writerow(['id_empleado', 'nombre_completo', 'edad_empleado', 'antiguedad_anos', 'personas_a_cargo', 'rol_empleado', 'es_rol_critico', 'tiene_ausencias_frecuentes', 'minusvalia', 'activo', 'id_departamento'])\n",
    "\n",
    "    for i in range(num_empleados):\n",
    "        nombre = fake.first_name()\n",
    "        apellidos = fake.last_name() + ' ' + fake.last_name()\n",
    "        edad = random.randint(18, 65)\n",
    "        antiguedad_maxima = max(0, edad - 18)\n",
    "        antiguedad = random.randint(0, antiguedad_maxima)\n",
    "        personas_a_cargo = random.randint(0, 3)\n",
    "        rol = random.choice(roles)\n",
    "        es_rol_critico = 'Sí' if rol in roles_criticos else 'No'\n",
    "        tiene_ausencias_frecuentes = 'Sí' if random.random() < 0.1 else 'No'\n",
    "        minusvalia = random.choice(opciones_tf)\n",
    "        activo = random.choice(opciones_tf)\n",
    "        id_departamento = random.randint(1, 7)\n",
    "\n",
    "        empleado = {\n",
    "            'id_empleado': i + 1,\n",
    "            'nombre_completo': f'{nombre} {apellidos}',\n",
    "            'edad_empleado': edad,\n",
    "            'rol_empleado': rol,\n",
    "            'es_rol_critico': es_rol_critico == 'Sí',\n",
    "            'antiguedad_anos': antiguedad,\n",
    "            'personas_a_cargo': personas_a_cargo > 0,\n",
    "            'tiene_ausencias_frecuentes': tiene_ausencias_frecuentes == 'Sí',\n",
    "            'minusvalia': minusvalia,\n",
    "            'activo': activo,\n",
    "            'id_departamento': id_departamento\n",
    "        }\n",
    "        empleados_data.append(empleado)\n",
    "        writer.writerow([i + 1, f'{nombre} {apellidos}', edad, antiguedad, personas_a_cargo, rol, es_rol_critico, tiene_ausencias_frecuentes, minusvalia, activo, id_departamento])\n",
    "\n",
    "print(\"El archivo 'empleados.csv' ha sido creado exitosamente.\")"
   ]
  },
  {
   "cell_type": "markdown",
   "id": "140df76b",
   "metadata": {},
   "source": [
    "### CSV DEPARTAMENTOS"
   ]
  },
  {
   "cell_type": "code",
   "execution_count": 16,
   "id": "1f6989c2",
   "metadata": {},
   "outputs": [
    {
     "name": "stdout",
     "output_type": "stream",
     "text": [
      "El archivo 'departamentos.csv' ha sido creado exitosamente.\n"
     ]
    }
   ],
   "source": [
    "nombres_departamentos = [\n",
    "    \"Recursos Humanos\",\n",
    "    \"Ventas\",\n",
    "    \"Marketing\",\n",
    "    \"Desarrollo de Producto\",\n",
    "    \"Atención al Cliente\",\n",
    "    \"Finanzas\",\n",
    "    \"Logística\"\n",
    "]\n",
    "departamentos_data = {}\n",
    "empleados_por_departamento = defaultdict(int)\n",
    "\n",
    "for empleado in empleados_data:\n",
    "    empleados_por_departamento[empleado['id_departamento']] += 1\n",
    "\n",
    "with open('../data/departamentos.csv', 'w', newline='', encoding='utf-8') as archivo_departamentos:\n",
    "    writer_departamentos = csv.writer(archivo_departamentos)\n",
    "    writer_departamentos.writerow(['id_departamento', 'nombre_departamento', 'porcentaje_maximo_inactivos', 'numero_total_empleados'])\n",
    "\n",
    "    for i, nombre in enumerate(nombres_departamentos, start=1):\n",
    "        porcentaje_maximo_inactivos = round(random.uniform(0.1, 0.3), 2) * 100\n",
    "        num_empleados_departamento = empleados_por_departamento[i]\n",
    "        departamento = {\n",
    "            'id_departamento': i,\n",
    "            'nombre_departamento': nombre,\n",
    "            'porcentaje_maximo_inactivos': porcentaje_maximo_inactivos,\n",
    "            'numero_total_empleados': num_empleados_departamento\n",
    "        }\n",
    "        departamentos_data[i] = departamento\n",
    "        writer_departamentos.writerow([i, nombre, int(porcentaje_maximo_inactivos), num_empleados_departamento])\n",
    "\n",
    "print(\"El archivo 'departamentos.csv' ha sido creado exitosamente.\")"
   ]
  },
  {
   "cell_type": "markdown",
   "id": "08a95ab1",
   "metadata": {},
   "source": [
    "### CSV VACACIONES"
   ]
  },
  {
   "cell_type": "code",
   "execution_count": 17,
   "id": "8f55dd32",
   "metadata": {},
   "outputs": [
    {
     "name": "stdout",
     "output_type": "stream",
     "text": [
      "El archivo 'vacaciones.csv' ha sido creado exitosamente con un intento de equilibrio de motivos de rechazo.\n",
      "Conteo de rechazos por motivo: Counter({'Rol crítico en el departamento durante esas fechas': 15000, 'Prioridad baja en comparación con otras solicitudes': 15000, 'Antigüedad insuficiente para el periodo solicitado': 6585, 'Empleado con historial de ausencias frecuentes': 5128, 'Exceso de solicitudes aprobadas en el departamento': 4407, 'Superposición con otras vacaciones': 4362, 'Falta de personal en esas fechas': 4317, 'Motivo no justificado': 4269, 'Solicitud fuera de plazo': 3418})\n"
     ]
    }
   ],
   "source": [
    "num_solicitudes = 100000\n",
    "motivos_rechazo_posibles = [\n",
    "    'Falta de personal en esas fechas',\n",
    "    'Superposición con otras vacaciones',\n",
    "    'Solicitud fuera de plazo',\n",
    "    'Motivo no justificado',\n",
    "    'Antigüedad insuficiente para el periodo solicitado',\n",
    "    'Rol crítico en el departamento durante esas fechas',\n",
    "    'Exceso de solicitudes aprobadas en el departamento',\n",
    "    'Prioridad baja en comparación con otras solicitudes',\n",
    "    'Empleado con historial de ausencias frecuentes'\n",
    "]\n",
    "num_motivos = len(motivos_rechazo_posibles)\n",
    "target_samples_per_motivo = 15000  # Define un número objetivo de muestras por motivo\n",
    "\n",
    "vacaciones_data = []\n",
    "rechazos_por_motivo = Counter({motivo: 0 for motivo in motivos_rechazo_posibles})\n",
    "\n",
    "def calcular_prioridad(empleado, fecha_solicitud_date):\n",
    "    score = 0\n",
    "    score += empleado['antiguedad_anos'] * 0.5\n",
    "    if empleado['personas_a_cargo'] > 0:\n",
    "        score += 5\n",
    "    dias_acumulados = min(empleado['antiguedad_anos'] * 8, 80)\n",
    "    dias_disfrutados = random.randint(0, min(int(empleado['antiguedad_anos'] * 4), 10))\n",
    "    if dias_disfrutados == 0 and empleado['antiguedad_anos'] >= 1:\n",
    "        score += 10\n",
    "    score += (dias_acumulados - dias_disfrutados) * 0.3\n",
    "    if empleado['es_rol_critico']:\n",
    "        score -= 10\n",
    "    if empleado['tiene_ausencias_frecuentes']:\n",
    "        score -= 5\n",
    "    fecha_solicitud_datetime = datetime.combine(fecha_solicitud_date, datetime.min.time())\n",
    "    dias_desde_solicitud = min((datetime.now() - fecha_solicitud_datetime).days * 0.05, 10)\n",
    "    score += dias_desde_solicitud\n",
    "    return score\n",
    "\n",
    "with open('../data/vacaciones.csv', 'w', newline='', encoding='utf-8') as archivo_csv:\n",
    "    writer = csv.writer(archivo_csv)\n",
    "    writer.writerow(['id_empleado', 'vacaciones_inicio', 'vacaciones_fin', 'fecha_solicitud', 'dias_solicitados', 'estado_solicitud', 'motivo_rechazo', 'prioridad'])\n",
    "\n",
    "    for _ in range(num_solicitudes):\n",
    "        empleado = random.choice(empleados_data)\n",
    "        fecha_solicitud_date = fake.date_between(start_date='-1y', end_date='-1w')\n",
    "        fecha_inicio_date = fake.date_between(start_date=fecha_solicitud_date + timedelta(days=7), end_date='+6mo')\n",
    "        delta = timedelta(days=random.randint(1, 21))\n",
    "        fecha_fin_date = fecha_inicio_date + delta\n",
    "        dias_solicitados = delta.days\n",
    "        prioridad = calcular_prioridad(empleado, fecha_solicitud_date)\n",
    "\n",
    "        estado_solicitud = 'aprobada'\n",
    "        motivo_rechazo = None\n",
    "\n",
    "        # Lógica para generar rechazos de forma más equilibrada\n",
    "        if sum(rechazos_por_motivo.values()) < target_samples_per_motivo * num_motivos:\n",
    "            if random.random() < 0.3:  # Aumentar la probabilidad general de rechazo\n",
    "                motivo_seleccionado = random.choice([\n",
    "                    m for m in motivos_rechazo_posibles if rechazos_por_motivo[m] < target_samples_per_motivo\n",
    "                ])\n",
    "                if motivo_seleccionado:\n",
    "                    estado_solicitud = 'rechazada'\n",
    "                    motivo_rechazo = motivo_seleccionado\n",
    "                    rechazos_por_motivo[motivo_rechazo] += 1\n",
    "        else:\n",
    "            # Si ya se han generado suficientes rechazos, priorizar aprobaciones\n",
    "            if random.random() < 0.8:\n",
    "                estado_solicitud = 'aprobada'\n",
    "            else:\n",
    "                estado_solicitud = 'rechazada'\n",
    "                motivo_rechazo = random.choice(motivos_rechazo_posibles) # Seguir generando rechazos, aunque menos probables\n",
    "\n",
    "        # Lógica adicional para forzar algunos motivos basados en características\n",
    "        if empleado['es_rol_critico'] and random.random() < 0.4 and rechazos_por_motivo['Rol crítico en el departamento durante esas fechas'] < target_samples_per_motivo:\n",
    "            estado_solicitud = 'rechazada'\n",
    "            motivo_rechazo = 'Rol crítico en el departamento durante esas fechas'\n",
    "            rechazos_por_motivo[motivo_rechazo] += 1\n",
    "        elif dias_solicitados > 15 and empleado['antiguedad_anos'] < 3 and random.random() < 0.5 and rechazos_por_motivo['Antigüedad insuficiente para el periodo solicitado'] < target_samples_per_motivo:\n",
    "            estado_solicitud = 'rechazada'\n",
    "            motivo_rechazo = 'Antigüedad insuficiente para el periodo solicitado'\n",
    "            rechazos_por_motivo[motivo_rechazo] += 1\n",
    "        elif prioridad < 30 and random.random() < 0.3 and rechazos_por_motivo['Prioridad baja en comparación con otras solicitudes'] < target_samples_per_motivo:\n",
    "            estado_solicitud = 'rechazada'\n",
    "            motivo_rechazo = 'Prioridad baja en comparación con otras solicitudes'\n",
    "            rechazos_por_motivo[motivo_rechazo] += 1\n",
    "        elif empleado['tiene_ausencias_frecuentes'] and random.random() < 0.2 and rechazos_por_motivo['Empleado con historial de ausencias frecuentes'] < target_samples_per_motivo:\n",
    "            estado_solicitud = 'rechazada'\n",
    "            motivo_rechazo = 'Empleado con historial de ausencias frecuentes'\n",
    "            rechazos_por_motivo[motivo_rechazo] += 1\n",
    "        elif (fecha_inicio_date - fecha_solicitud_date).days < 7 and random.random() < 0.2 and rechazos_por_motivo['Solicitud fuera de plazo'] < target_samples_per_motivo:\n",
    "            estado_solicitud = 'rechazada'\n",
    "            motivo_rechazo = 'Solicitud fuera de plazo'\n",
    "            rechazos_por_motivo[motivo_rechazo] += 1\n",
    "        elif random.random() < 0.05 and sum(rechazos_por_motivo.values()) < target_samples_per_motivo * num_motivos:\n",
    "            otro_motivo = random.choice([\n",
    "                m for m in ['Falta de personal en esas fechas', 'Superposición con otras vacaciones', 'Motivo no justificado', 'Exceso de solicitudes aprobadas en el departamento']\n",
    "                if rechazos_por_motivo[m] < target_samples_per_motivo\n",
    "            ])\n",
    "            if otro_motivo:\n",
    "                estado_solicitud = 'rechazada'\n",
    "                motivo_rechazo = otro_motivo\n",
    "                rechazos_por_motivo[motivo_rechazo] += 1\n",
    "\n",
    "        vacaciones_data.append([empleado['id_empleado'], fecha_inicio_date.strftime('%Y-%m-%d'), fecha_fin_date.strftime('%Y-%m-%d'), fecha_solicitud_date.strftime('%Y-%m-%d'), dias_solicitados, estado_solicitud, motivo_rechazo, prioridad])\n",
    "\n",
    "    # Escribir todos los datos al CSV\n",
    "    writer.writerows(vacaciones_data)\n",
    "\n",
    "print(\"El archivo 'vacaciones.csv' ha sido creado exitosamente con un intento de equilibrio de motivos de rechazo.\")\n",
    "print(\"Conteo de rechazos por motivo:\", rechazos_por_motivo)\n",
    "\n"
   ]
  }
 ],
 "metadata": {
  "kernelspec": {
   "display_name": "chronosAI-bGPFpNdy",
   "language": "python",
   "name": "python3"
  },
  "language_info": {
   "codemirror_mode": {
    "name": "ipython",
    "version": 3
   },
   "file_extension": ".py",
   "mimetype": "text/x-python",
   "name": "python",
   "nbconvert_exporter": "python",
   "pygments_lexer": "ipython3",
   "version": "3.13.3"
  }
 },
 "nbformat": 4,
 "nbformat_minor": 5
}
