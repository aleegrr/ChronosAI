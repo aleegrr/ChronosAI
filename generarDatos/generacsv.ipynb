{
 "cells": [
  {
   "cell_type": "code",
   "execution_count": 6,
   "id": "6d78383d",
   "metadata": {},
   "outputs": [],
   "source": [
    "import csv\n",
    "import random\n",
    "from faker import Faker\n",
    "from datetime import timedelta"
   ]
  },
  {
   "cell_type": "markdown",
   "id": "0d6a0361",
   "metadata": {},
   "source": [
    "### CSV EMPLEADOS"
   ]
  },
  {
   "cell_type": "code",
   "execution_count": 7,
   "id": "a50a5a4c",
   "metadata": {},
   "outputs": [],
   "source": [
    "fake = Faker('es_ES')"
   ]
  },
  {
   "cell_type": "code",
   "execution_count": 8,
   "id": "80d9c539",
   "metadata": {},
   "outputs": [
    {
     "name": "stdout",
     "output_type": "stream",
     "text": [
      "El archivo 'empleados.csv' ha sido creado exitosamente.\n"
     ]
    }
   ],
   "source": [
    "num_empleados = 150\n",
    "roles = ['Dependiente', 'Jefe de sección', 'Jefe de tienda', 'Director de tienda', 'Gerente de tienda', 'Subdirector de tienda', 'Encargado de tienda']\n",
    "opciones_tf = ['Sí', 'No']\n",
    "\n",
    "with open('../data/empleados.csv', 'w', newline='', encoding='utf-8') as archivo_csv:\n",
    "    writer = csv.writer(archivo_csv)\n",
    "    writer.writerow(['id_empleado', 'nombre_completo', 'edad_empleado', 'antiguedad_anos', 'personas_a_cargo', 'rol_empleado', 'minusvalia', 'activo', 'id_departamento'])\n",
    "\n",
    "    for i in range(num_empleados):\n",
    "        nombre = fake.first_name()\n",
    "        apellidos = fake.last_name() + ' ' + fake.last_name()\n",
    "        edad = random.randint(18, 65)\n",
    "        antiguedad_maxima = max(0, edad - 18)\n",
    "        antiguedad = random.randint(0, antiguedad_maxima)\n",
    "        personas_a_cargo = random.randint(0, 7)\n",
    "        rol = random.choice(roles)\n",
    "        minusvalia = random.choice(opciones_tf)\n",
    "        activo = random.choice(opciones_tf)\n",
    "        id_departamento = random.randint(1, 7)\n",
    "\n",
    "\n",
    "        writer.writerow([i + 1, f'{nombre} {apellidos}', edad, antiguedad, personas_a_cargo, rol, minusvalia, activo, id_departamento])\n",
    "\n",
    "print(\"El archivo 'empleados.csv' ha sido creado exitosamente.\")"
   ]
  },
  {
   "cell_type": "markdown",
   "id": "08a95ab1",
   "metadata": {},
   "source": [
    "### CSV VACACIONES"
   ]
  },
  {
   "cell_type": "code",
   "execution_count": 9,
   "id": "8f55dd32",
   "metadata": {},
   "outputs": [
    {
     "name": "stdout",
     "output_type": "stream",
     "text": [
      "El archivo 'vacaciones.csv' ha sido creado exitosamente.\n"
     ]
    }
   ],
   "source": [
    "num_solicitudes = 100000  # Generaremos algunas solicitudes por empleado\n",
    "estados = ['aprobada', 'rechazada']\n",
    "motivos_rechazo_posibles = [\n",
    "    'Falta de personal en esas fechas',\n",
    "    'Superposición con otras vacaciones',\n",
    "    'Solicitud fuera de plazo',\n",
    "    'Motivo no justificado'\n",
    "]\n",
    "num_empleados_generados = 150  # Usamos el mismo número de empleados\n",
    "\n",
    "with open('../data/vacaciones.csv', 'w', newline='', encoding='utf-8') as archivo_csv:\n",
    "    writer = csv.writer(archivo_csv)\n",
    "    writer.writerow(['id_empleado', 'vacaciones_inicio', 'vacaciones_fin', 'fecha_solicitud', 'estado_solicitud', 'motivo_rechazo'])\n",
    "\n",
    "    for _ in range(num_solicitudes):\n",
    "        id_empleado = random.randint(1, num_empleados_generados)\n",
    "        fecha_solicitud_date = fake.date_between(start_date='-1y', end_date='today')\n",
    "        fecha_inicio_date = fake.date_between(start_date=fecha_solicitud_date, end_date='+6mo')\n",
    "        delta = timedelta(days=random.randint(1, 30))\n",
    "        fecha_fin_date = fecha_inicio_date + delta\n",
    "        estado_solicitud = random.choice(estados)\n",
    "        motivo_rechazo = random.choice(motivos_rechazo_posibles) if estado_solicitud == 'rechazada' else ''\n",
    "\n",
    "        fecha_solicitud = fecha_solicitud_date.strftime('%Y-%m-%d')\n",
    "        fecha_inicio = fecha_inicio_date.strftime('%Y-%m-%d')\n",
    "        fecha_fin = fecha_fin_date.strftime('%Y-%m-%d')\n",
    "\n",
    "        fila = [id_empleado, fecha_inicio, fecha_fin, fecha_solicitud, estado_solicitud, motivo_rechazo]\n",
    "        writer.writerow(fila)\n",
    "\n",
    "print(\"El archivo 'vacaciones.csv' ha sido creado exitosamente.\")"
   ]
  },
  {
   "cell_type": "markdown",
   "id": "5ce917a0",
   "metadata": {},
   "source": [
    "### CSV DEPARTAMENTOS"
   ]
  },
  {
   "cell_type": "code",
   "execution_count": 10,
   "id": "1f6989c2",
   "metadata": {},
   "outputs": [
    {
     "name": "stdout",
     "output_type": "stream",
     "text": [
      "El archivo 'departamentos.csv' ha sido creado exitosamente.\n"
     ]
    }
   ],
   "source": [
    "# Diccionario para almacenar el número de empleados por departamento\n",
    "empleados_por_departamento = {i: 0 for i in range(1, 7 + 1)}\n",
    "\n",
    "# Leer el archivo de empleados para contar los empleados por departamento\n",
    "try:\n",
    "    with open('../data/empleados.csv', 'r', encoding='utf-8') as archivo_empleados:\n",
    "        reader_empleados = csv.DictReader(archivo_empleados)\n",
    "        for row in reader_empleados:\n",
    "            try:\n",
    "                id_departamento = int(row['id_departamento'])\n",
    "                if 1 <= id_departamento <= 7:\n",
    "                    empleados_por_departamento[id_departamento] += 1\n",
    "            except ValueError:\n",
    "                print(f\"Advertencia: No se pudo convertir a entero el id_departamento: {row['id_departamento']}\")\n",
    "            except KeyError:\n",
    "                print(\"Advertencia: La columna 'id_departamento' no se encontró en el archivo de empleados.\")\n",
    "except FileNotFoundError:\n",
    "    print(\"Error: El archivo 'empleados.csv' no fue encontrado. Asegúrate de que esté en el mismo directorio.\")\n",
    "    exit()\n",
    "\n",
    "with open('../data/departamentos.csv', 'w', newline='', encoding='utf-8') as archivo_departamentos:\n",
    "    writer_departamentos = csv.writer(archivo_departamentos)\n",
    "    writer_departamentos.writerow(['id_departamento', 'nombre_departamento', 'porcentaje_maximo_inactivos', 'numero_total_empleados'])\n",
    "\n",
    "    nombres_departamentos = [\n",
    "        \"Recursos Humanos\",\n",
    "        \"Ventas\",\n",
    "        \"Marketing\",\n",
    "        \"Desarrollo de Producto\",\n",
    "        \"Atención al Cliente\",\n",
    "        \"Finanzas\",\n",
    "        \"Logística\"\n",
    "    ]\n",
    "\n",
    "    for i in range(1, 7 + 1):\n",
    "        nombre_departamento = nombres_departamentos[i - 1]\n",
    "        porcentaje_maximo_inactivos = round(random.uniform(0.1, 0.3), 2) *100\n",
    "        numero_total_empleados = empleados_por_departamento[i]\n",
    "        writer_departamentos.writerow([i, nombre_departamento, int(porcentaje_maximo_inactivos), int(numero_total_empleados)])\n",
    "\n",
    "print(\"El archivo 'departamentos.csv' ha sido creado exitosamente.\")"
   ]
  }
 ],
 "metadata": {
  "kernelspec": {
   "display_name": "chronosAI-bGPFpNdy",
   "language": "python",
   "name": "python3"
  },
  "language_info": {
   "codemirror_mode": {
    "name": "ipython",
    "version": 3
   },
   "file_extension": ".py",
   "mimetype": "text/x-python",
   "name": "python",
   "nbconvert_exporter": "python",
   "pygments_lexer": "ipython3",
   "version": "3.13.3"
  }
 },
 "nbformat": 4,
 "nbformat_minor": 5
}
