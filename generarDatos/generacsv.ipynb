{
 "cells": [
  {
   "cell_type": "code",
   "execution_count": 7,
   "id": "6d78383d",
   "metadata": {},
   "outputs": [],
   "source": [
    "import random\n",
    "import pandas as pd\n",
    "import numpy as np\n",
    "from faker import Faker\n",
    "from datetime import timedelta, datetime"
   ]
  },
  {
   "cell_type": "markdown",
   "id": "0d6a0361",
   "metadata": {},
   "source": [
    "## --- Generación de empleados.csv ---"
   ]
  },
  {
   "cell_type": "code",
   "execution_count": 8,
   "id": "a50a5a4c",
   "metadata": {},
   "outputs": [],
   "source": [
    "fake = Faker('es_ES')"
   ]
  },
  {
   "cell_type": "code",
   "execution_count": 9,
   "id": "80d9c539",
   "metadata": {},
   "outputs": [],
   "source": [
    "num_empleados = 150\n",
    "departamentos = [\"Ventas\", \"Marketing\", \"IT\", \"Recursos Humanos\", \"Finanzas\", \"Operaciones\"]\n",
    "puestos_por_departamento = {\n",
    "    \"Ventas\": [\"Representante de Ventas\", \"Gerente de Ventas\", \"Ejecutivo de Cuentas\"],\n",
    "    \"Marketing\": [\"Especialista en Marketing\", \"Analista de Marketing\", \"Community Manager\"],\n",
    "    \"IT\": [\"Desarrollador Front-end\", \"Desarrollador Back-end\", \"Administrador de Sistemas\", \"Analista de Datos\"],\n",
    "    \"Recursos Humanos\": [\"Especialista en RRHH\", \"Técnico de Selección\", \"Responsable de Formación\"],\n",
    "    \"Finanzas\": [\"Contador\", \"Analista Financiero\", \"Tesorero\"],\n",
    "    \"Operaciones\": [\"Coordinador de Operaciones\", \"Especialista en Logística\", \"Asistente de Producción\"],\n",
    "}\n",
    "\n",
    "empleados_data = []\n",
    "for i in range(1, num_empleados + 1):\n",
    "    nombre = fake.name()\n",
    "    correo = f\"{nombre.split()[0].lower()}.{nombre.split()[1].lower()}@empresa.com\"\n",
    "    edad = random.randint(22, 55)\n",
    "    genero = random.choice([\"Masculino\", \"Femenino\", \"Otro\"])\n",
    "    departamento = random.choice(departamentos)\n",
    "    puesto = random.choice(puestos_por_departamento[departamento])\n",
    "    fecha_contratacion = datetime.now() - timedelta(days=random.randint(30, 1825)) # Hasta 5 años de antigüedad\n",
    "    antiguedad_meses = (datetime.now() - fecha_contratacion).days // 30\n",
    "    nivel_educacion = random.choice([\"Bachillerato\", \"Grado\", \"Máster\", \"Doctorado\"])\n",
    "    empleados_data.append([i, nombre, departamento, puesto, fecha_contratacion.strftime('%Y-%m-%d'), antiguedad_meses, correo, edad, genero, nivel_educacion])\n",
    "\n",
    "empleados_df = pd.DataFrame(empleados_data, columns=['id_empleado', 'nombre', 'departamento', 'puesto', 'fecha_contratacion', 'antiguedad_meses', 'correo_electronico', 'edad', 'genero', 'nivel_educacion'])\n",
    "empleados_df.to_csv('../data/empleados.csv', index=False)"
   ]
  },
  {
   "cell_type": "markdown",
   "id": "140df76b",
   "metadata": {},
   "source": [
    "## --- Generación de calendario_laboral.csv ---"
   ]
  },
  {
   "cell_type": "code",
   "execution_count": 10,
   "id": "1f6989c2",
   "metadata": {},
   "outputs": [
    {
     "name": "stdout",
     "output_type": "stream",
     "text": [
      "Archivo calendario_laboral.csv generado.\n"
     ]
    }
   ],
   "source": [
    "start_date = datetime(2023, 1, 1)\n",
    "end_date = datetime(2025, 12, 31)\n",
    "dates = pd.date_range(start=start_date, end=end_date, freq='D')\n",
    "calendario_data = []\n",
    "\n",
    "# Definir festivos para 2023, 2024 y 2025 (España y algunos locales de Jerez - ejemplo)\n",
    "festivos = {\n",
    "    2023: [\"2023-01-01\", \"2023-01-06\", \"2023-02-28\", \"2023-04-06\", \"2023-04-07\", \"2023-05-01\", \"2023-08-15\", \"2023-10-12\", \"2023-11-01\", \"2023-12-06\", \"2023-12-08\", \"2023-12-25\"],\n",
    "    2024: [\"2024-01-01\", \"2024-01-06\", \"2024-02-28\", \"2024-03-28\", \"2024-03-29\", \"2024-05-01\", \"2024-08-15\", \"2024-10-12\", \"2024-11-01\", \"2024-12-06\", \"2024-12-08\", \"2024-12-25\"],\n",
    "    2025: [\"2025-01-01\", \"2025-01-06\", \"2025-02-28\", \"2025-04-17\", \"2025-04-18\", \"2025-05-01\", \"2025-08-15\", \"2025-10-12\", \"2025-11-01\", \"2025-12-06\", \"2025-12-08\", \"2025-12-25\"],\n",
    "}\n",
    "\n",
    "for date in dates:\n",
    "    fecha_str = date.strftime('%Y-%m-%d')\n",
    "    anio = date.year\n",
    "    es_festivo = fecha_str in festivos.get(anio, [])\n",
    "    dia_semana = date.strftime('%A')\n",
    "    mes = date.month\n",
    "    if 3 <= mes <= 5:\n",
    "        temporada = \"Primavera\"\n",
    "    elif 6 <= mes <= 8:\n",
    "        temporada = \"Verano\"\n",
    "    elif 9 <= mes <= 11:\n",
    "        temporada = \"Otoño\"\n",
    "    else:\n",
    "        temporada = \"Invierno\"\n",
    "    calendario_data.append([fecha_str, es_festivo, dia_semana, temporada])\n",
    "\n",
    "calendario_df = pd.DataFrame(calendario_data, columns=['fecha', 'es_festivo', 'dia_semana', 'temporada'])\n",
    "calendario_df.to_csv('../data/calendario_laboral.csv', index=False)\n",
    "\n",
    "print(\"Archivo calendario_laboral.csv generado.\")"
   ]
  },
  {
   "cell_type": "markdown",
   "id": "08a95ab1",
   "metadata": {},
   "source": [
    "## --- Generación de politicas_vacaciones.csv ---"
   ]
  },
  {
   "cell_type": "code",
   "execution_count": 11,
   "id": "c45c2695",
   "metadata": {},
   "outputs": [
    {
     "name": "stdout",
     "output_type": "stream",
     "text": [
      "Archivo politicas_vacaciones.csv generado.\n"
     ]
    }
   ],
   "source": [
    "politicas_data = [\n",
    "    [\"General\", 15, None, None, None, False, None],\n",
    "    [\"Ventas\", 10, 6, None, None, True, 2],\n",
    "    [\"Marketing\", 12, 3, datetime(datetime.now().year, 8, 1).strftime('%Y-%m-%d'), datetime(datetime.now().year, 8, 15).strftime('%Y-%m-%d'), False, 1],\n",
    "    [\"IT\", 20, None, None, None, False, 3],\n",
    "    [\"Recursos Humanos\", 10, 12, None, None, True, 1],\n",
    "    [\"Finanzas\", 15, 6, datetime(datetime.now().year, 12, 20).strftime('%Y-%m-%d'), datetime(datetime.now().year, 1, 7).strftime('%Y-%m-%d'), False, 1],\n",
    "    [\"Operaciones\", 18, None, None, None, True, 2],\n",
    "]\n",
    "\n",
    "politicas_df = pd.DataFrame(politicas_data, columns=['departamento', 'max_dias_consecutivos', 'antiguedad_minima_meses', 'periodo_bloqueo_inicio', 'periodo_bloqueo_fin', 'prioridad_antiguedad', 'max_empleados_simultaneos'])\n",
    "politicas_df.to_csv('../data/politicas_vacaciones.csv', index=False)\n",
    "\n",
    "print(\"Archivo politicas_vacaciones.csv generado.\")"
   ]
  },
  {
   "cell_type": "markdown",
   "id": "f46c5980",
   "metadata": {},
   "source": [
    "## --- Generación de solicitudes_vacaciones.csv (con carga de políticas) ---"
   ]
  },
  {
   "cell_type": "code",
   "execution_count": 12,
   "id": "8f55dd32",
   "metadata": {},
   "outputs": [
    {
     "name": "stdout",
     "output_type": "stream",
     "text": [
      "Archivo solicitudes_vacaciones_con_politicas.csv generado.\n"
     ]
    }
   ],
   "source": [
    "# Cargar el DataFrame de políticas de vacaciones\n",
    "try:\n",
    "    politicas_df = pd.read_csv('../data/politicas_vacaciones.csv')\n",
    "    politicas_por_departamento = politicas_df.set_index('departamento').to_dict('index')\n",
    "except FileNotFoundError:\n",
    "    print(\"Error: El archivo politicas_vacaciones.csv no se encontró. Asegúrate de generarlo primero.\")\n",
    "    exit()\n",
    "\n",
    "num_solicitudes = 10000\n",
    "solicitudes_data = []\n",
    "\n",
    "# Simulación del estado de vacaciones por departamento (para evitar solapamientos excesivos)\n",
    "vacaciones_programadas = {dep: [] for dep in empleados_df['departamento'].unique()}\n",
    "\n",
    "for i in range(1, num_solicitudes + 1):\n",
    "    id_empleado = random.choice(empleados_df['id_empleado'])\n",
    "    empleado = empleados_df[empleados_df['id_empleado'] == id_empleado].iloc[0]\n",
    "    departamento_empleado = empleado['departamento']\n",
    "    antiguedad_meses_empleado = empleado['antiguedad_meses']\n",
    "\n",
    "    fecha_solicitud = datetime.now() - timedelta(days=random.randint(10, 365))\n",
    "    fecha_inicio = fecha_solicitud + timedelta(days=random.randint(5, 90))\n",
    "    duracion_dias = random.randint(1, 20)\n",
    "    fecha_fin = fecha_inicio + timedelta(days=duracion_dias - 1)\n",
    "    periodo_anio = fecha_inicio.year\n",
    "    mes_solicitud = fecha_solicitud.month\n",
    "    dia_semana_solicitud = fecha_solicitud.strftime('%A')\n",
    "\n",
    "    estado = \"Aceptada\"\n",
    "    motivo_rechazo = np.nan\n",
    "\n",
    "    # --- Lógica de Decisión basada en políticas del CSV ---\n",
    "    rechazo = False\n",
    "    motivos_rechazo_lista = []\n",
    "\n",
    "    politica_departamento = politicas_por_departamento.get(departamento_empleado)\n",
    "    politica_general = politicas_por_departamento.get(\"General\", {}) # Obtener políticas generales por si faltan específicas\n",
    "\n",
    "    max_dias = politica_departamento.get('max_dias_consecutivos', politica_general.get('max_dias_consecutivos', 15))\n",
    "    antiguedad_minima = politica_departamento.get('antiguedad_minima_meses')\n",
    "    periodo_bloqueo_inicio_str = politica_departamento.get('periodo_bloqueo_inicio')\n",
    "    periodo_bloqueo_fin_str = politica_departamento.get('periodo_bloqueo_fin')\n",
    "    prioridad_antiguedad = politica_departamento.get('prioridad_antiguedad', politica_general.get('prioridad_antiguedad', False))\n",
    "    max_simultaneos = politica_departamento.get('max_empleados_simultaneos', politica_general.get('max_empleados_simultaneos'))\n",
    "\n",
    "    periodo_bloqueo_inicio = datetime.strptime(periodo_bloqueo_inicio_str, '%Y-%m-%d').date() if isinstance(periodo_bloqueo_inicio_str, str) else None\n",
    "    periodo_bloqueo_fin = datetime.strptime(periodo_bloqueo_fin_str, '%Y-%m-%d').date() if isinstance(periodo_bloqueo_fin_str, str) else None\n",
    "\n",
    "    # 1. Excede la duración máxima consecutiva\n",
    "    if duracion_dias > max_dias:\n",
    "        rechazo = True\n",
    "        motivos_rechazo_lista.append(f\"Duración de vacaciones excede el límite permitido de {max_dias} días.\")\n",
    "\n",
    "    # 2. No cumple la antigüedad mínima (si aplica)\n",
    "    if antiguedad_minima is not None and antiguedad_meses_empleado < antiguedad_minima:\n",
    "        rechazo = True\n",
    "        motivos_rechazo_lista.append(f\"No se cumple la antigüedad mínima de {antiguedad_minima} meses.\")\n",
    "\n",
    "    # 3. Solicitud dentro del periodo de bloqueo (si aplica)\n",
    "    if periodo_bloqueo_inicio and periodo_bloqueo_fin:\n",
    "        fecha_inicio_solicitud = fecha_inicio.date()\n",
    "        fecha_fin_solicitud = fecha_fin.date()\n",
    "        if (periodo_bloqueo_inicio <= fecha_inicio_solicitud <= periodo_bloqueo_fin) or \\\n",
    "           (periodo_bloqueo_inicio <= fecha_fin_solicitud <= periodo_bloqueo_fin) or \\\n",
    "           (fecha_inicio_solicitud <= periodo_bloqueo_inicio and fecha_fin_solicitud >= periodo_bloqueo_fin):\n",
    "            # Considerar antigüedad para permitir algunas excepciones en periodos de bloqueo\n",
    "            if antiguedad_meses_empleado < 12 and random.random() < 0.7: # Ejemplo de lógica para excepciones\n",
    "                rechazo = True\n",
    "                motivos_rechazo_lista.append(\"Solicitud dentro del periodo de bloqueo de vacaciones.\")\n",
    "\n",
    "    # 4. Exceso de empleados de vacaciones simultáneamente en el departamento (si se define el límite)\n",
    "    if max_simultaneos is not None:\n",
    "        solapamientos = 0\n",
    "        for emp_id_programado, inicio, fin in vacaciones_programadas[departamento_empleado]:\n",
    "            if (fecha_inicio <= fin) and (fecha_fin >= inicio):\n",
    "                solapamientos += 1\n",
    "        if solapamientos >= max_simultaneos:\n",
    "            # Considerar prioridad por antigüedad\n",
    "            empleados_solapados = [emp_id_prog for emp_id_prog, inicio, fin in vacaciones_programadas[departamento_empleado] if (fecha_inicio <= fin) and (fecha_fin >= inicio)]\n",
    "            antiguedades_solapados = [empleados_df[empleados_df['id_empleado'] == emp_id]['antiguedad_meses'].iloc[0] for emp_id in empleados_solapados]\n",
    "            if prioridad_antiguedad and antiguedad_meses_empleado <= min(antiguedades_solapados + [float('inf')]):\n",
    "                rechazo = True\n",
    "                motivos_rechazo_lista.append(f\"Se supera el número máximo de {max_simultaneos} empleados de vacaciones simultáneamente en el departamento.\")\n",
    "            elif not prioridad_antiguedad and random.random() < 0.5: # Si no hay prioridad, rechazo aleatorio si se supera el límite\n",
    "                rechazo = True\n",
    "                motivos_rechazo_lista.append(f\"Se supera el número máximo de {max_simultaneos} empleados de vacaciones simultáneamente en el departamento.\")\n",
    "\n",
    "\n",
    "    # Decidir el estado final y el motivo\n",
    "    if rechazo:\n",
    "        estado = \"Rechazada\"\n",
    "        motivo_rechazo = random.choice(motivos_rechazo_lista) if motivos_rechazo_lista else \"Motivo no especificado.\"\n",
    "    else:\n",
    "        # Si se acepta, registrar las vacaciones programadas para futuras decisiones (incluyendo el id del empleado)\n",
    "        vacaciones_programadas[departamento_empleado].append((id_empleado, fecha_inicio, fecha_fin))\n",
    "\n",
    "    solicitudes_data.append([i, id_empleado, fecha_inicio.strftime('%Y-%m-%d'), fecha_fin.strftime('%Y-%m-%d'), duracion_dias, fecha_solicitud.strftime('%Y-%m-%d'), estado, motivo_rechazo, periodo_anio, mes_solicitud, dia_semana_solicitud])\n",
    "\n",
    "solicitudes_df = pd.DataFrame(solicitudes_data, columns=['id_solicitud', 'id_empleado', 'fecha_inicio', 'fecha_fin', 'duracion_dias', 'fecha_solicitud', 'estado', 'motivo_rechazo', 'periodo_anio', 'mes_solicitud', 'dia_semana_solicitud'])\n",
    "solicitudes_df.to_csv('../data/solicitudes_vacaciones_con_politicas.csv', index=False)\n",
    "\n",
    "print(\"Archivo solicitudes_vacaciones_con_politicas.csv generado.\")"
   ]
  }
 ],
 "metadata": {
  "kernelspec": {
   "display_name": "chronosAI-bGPFpNdy",
   "language": "python",
   "name": "python3"
  },
  "language_info": {
   "codemirror_mode": {
    "name": "ipython",
    "version": 3
   },
   "file_extension": ".py",
   "mimetype": "text/x-python",
   "name": "python",
   "nbconvert_exporter": "python",
   "pygments_lexer": "ipython3",
   "version": "3.13.3"
  }
 },
 "nbformat": 4,
 "nbformat_minor": 5
}
