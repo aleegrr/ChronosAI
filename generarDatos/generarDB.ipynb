{
 "cells": [
  {
   "cell_type": "code",
   "execution_count": 41,
   "id": "656d6b84",
   "metadata": {},
   "outputs": [],
   "source": [
    "import pandas as pd\n",
    "import sqlite3"
   ]
  },
  {
   "cell_type": "markdown",
   "id": "0c91a387",
   "metadata": {},
   "source": [
    "### Leer CSV y conectar  DB"
   ]
  },
  {
   "cell_type": "code",
   "execution_count": 42,
   "id": "26137f18",
   "metadata": {},
   "outputs": [],
   "source": [
    "dfEmpleados = pd.read_csv(\"../data/empleados.csv\")\n",
    "connEmpleados = sqlite3.connect(\"../data/empleados.db\")"
   ]
  },
  {
   "cell_type": "code",
   "execution_count": 43,
   "id": "7aabfe80",
   "metadata": {},
   "outputs": [],
   "source": [
    "dfVacaciones = pd.read_csv(\"../data/vacaciones.csv\")\n",
    "connVacaciones = sqlite3.connect(\"../data/vacaciones.db\")"
   ]
  },
  {
   "cell_type": "code",
   "execution_count": 44,
   "id": "66e02060",
   "metadata": {},
   "outputs": [],
   "source": [
    "dfDepartamentos = pd.read_csv(\"../data/departamentos.csv\")\n",
    "connDepartamentos = sqlite3.connect(\"../data/departamentos.db\")"
   ]
  },
  {
   "cell_type": "markdown",
   "id": "edae06dd",
   "metadata": {},
   "source": [
    "### Exportar los datos del DataFrame a una tabla de SQLite"
   ]
  },
  {
   "cell_type": "code",
   "execution_count": 45,
   "id": "ee42e12d",
   "metadata": {},
   "outputs": [
    {
     "data": {
      "text/plain": [
       "150"
      ]
     },
     "execution_count": 45,
     "metadata": {},
     "output_type": "execute_result"
    }
   ],
   "source": [
    "dfEmpleados.to_sql(\"empleados\", connEmpleados, if_exists=\"replace\", index=False)"
   ]
  },
  {
   "cell_type": "code",
   "execution_count": 46,
   "id": "32207a37",
   "metadata": {},
   "outputs": [
    {
     "data": {
      "text/plain": [
       "100000"
      ]
     },
     "execution_count": 46,
     "metadata": {},
     "output_type": "execute_result"
    }
   ],
   "source": [
    "dfVacaciones.to_sql(\"vacaciones\", connVacaciones, if_exists=\"replace\", index=False)"
   ]
  },
  {
   "cell_type": "code",
   "execution_count": 47,
   "id": "5718a46c",
   "metadata": {},
   "outputs": [
    {
     "data": {
      "text/plain": [
       "7"
      ]
     },
     "execution_count": 47,
     "metadata": {},
     "output_type": "execute_result"
    }
   ],
   "source": [
    "dfDepartamentos.to_sql(\"departamentos\", connDepartamentos, if_exists=\"replace\", index=False)"
   ]
  },
  {
   "cell_type": "code",
   "execution_count": 48,
   "id": "ce34624c",
   "metadata": {},
   "outputs": [
    {
     "name": "stdout",
     "output_type": "stream",
     "text": [
      "CSVs importados a las bases de datos con éxito.\n"
     ]
    }
   ],
   "source": [
    "connEmpleados.close()\n",
    "connVacaciones.close()\n",
    "connDepartamentos.close()\n",
    "print(\"CSVs importados a las bases de datos con éxito.\")"
   ]
  }
 ],
 "metadata": {
  "kernelspec": {
   "display_name": "chronosAI-bGPFpNdy",
   "language": "python",
   "name": "python3"
  },
  "language_info": {
   "codemirror_mode": {
    "name": "ipython",
    "version": 3
   },
   "file_extension": ".py",
   "mimetype": "text/x-python",
   "name": "python",
   "nbconvert_exporter": "python",
   "pygments_lexer": "ipython3",
   "version": "3.13.3"
  }
 },
 "nbformat": 4,
 "nbformat_minor": 5
}
