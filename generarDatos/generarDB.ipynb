{
 "cells": [
  {
   "cell_type": "code",
   "execution_count": 113,
   "id": "656d6b84",
   "metadata": {},
   "outputs": [],
   "source": [
    "import pandas as pd\n",
    "import sqlite3"
   ]
  },
  {
   "cell_type": "code",
   "execution_count": 114,
   "id": "6e63611b",
   "metadata": {},
   "outputs": [],
   "source": [
    "# Nombre del archivo de la base de datos SQLite\n",
    "db_file = '../data/vacaciones_empresa.db'\n",
    "\n",
    "# Nombres de los archivos CSV\n",
    "empleados_csv = '../data/empleados.csv'\n",
    "solicitudes_csv = '../data/solicitudes_vacaciones_con_politicas.csv'\n",
    "calendario_csv = '../data/calendario_laboral.csv'\n",
    "politicas_csv = '../data/politicas_vacaciones.csv'"
   ]
  },
  {
   "cell_type": "code",
   "execution_count": 115,
   "id": "18a00f8a",
   "metadata": {},
   "outputs": [],
   "source": [
    "def crear_conexion(db_file):\n",
    "    \"\"\"Crea una conexión a la base de datos SQLite especificada por db_file.\"\"\"\n",
    "    conn = None\n",
    "    try:\n",
    "        conn = sqlite3.connect(db_file)\n",
    "        print(f\"Conexión exitosa a la base de datos SQLite: {db_file}\")\n",
    "    except sqlite3.Error as e:\n",
    "        print(f\"Error al conectar a la base de datos: {e}\")\n",
    "    return conn"
   ]
  },
  {
   "cell_type": "code",
   "execution_count": 116,
   "id": "8d3b8295",
   "metadata": {},
   "outputs": [],
   "source": [
    "def crear_tabla_empleados(conn):\n",
    "    \"\"\"Crea la tabla 'empleados' en la base de datos.\"\"\"\n",
    "    try:\n",
    "        cursor = conn.cursor()\n",
    "        cursor.execute(\"\"\"\n",
    "            CREATE TABLE IF NOT EXISTS empleados (\n",
    "                id_empleado INTEGER PRIMARY KEY,\n",
    "                nombre TEXT,\n",
    "                departamento TEXT,\n",
    "                puesto TEXT,\n",
    "                fecha_contratacion TEXT,\n",
    "                antiguedad_meses INTEGER,\n",
    "                correo_electronico TEXT,\n",
    "                edad INTEGER,\n",
    "                genero TEXT,\n",
    "                nivel_educacion TEXT\n",
    "            )\n",
    "        \"\"\")\n",
    "        conn.commit()\n",
    "        print(\"Tabla 'empleados' creada exitosamente.\")\n",
    "    except sqlite3.Error as e:\n",
    "        print(f\"Error al crear la tabla 'empleados': {e}\")"
   ]
  },
  {
   "cell_type": "code",
   "execution_count": 117,
   "id": "1a8d1e91",
   "metadata": {},
   "outputs": [],
   "source": [
    "def cargar_csv_a_tabla(conn, csv_file, table_name):\n",
    "    \"\"\"Carga los datos desde un archivo CSV a una tabla en la base de datos.\"\"\"\n",
    "    try:\n",
    "        df = pd.read_csv(csv_file)\n",
    "        df.to_sql(table_name, conn, if_exists='replace', index=False)\n",
    "        print(f\"Datos cargados exitosamente desde '{csv_file}' a la tabla '{table_name}'.\")\n",
    "    except pd.errors.EmptyDataError:\n",
    "        print(f\"Error: El archivo CSV '{csv_file}' está vacío.\")\n",
    "    except pd.errors.ParserError as e:\n",
    "        print(f\"Error al leer el archivo CSV '{csv_file}': {e}\")\n",
    "    except sqlite3.Error as e:\n",
    "        print(f\"Error al cargar datos a la tabla '{table_name}': {e}\")"
   ]
  },
  {
   "cell_type": "code",
   "execution_count": 118,
   "id": "0b90924e",
   "metadata": {},
   "outputs": [],
   "source": [
    "def crear_tabla_solicitudes(conn):\n",
    "    \"\"\"Crea la tabla 'solicitudes_vacaciones' en la base de datos.\"\"\"\n",
    "    try:\n",
    "        cursor = conn.cursor()\n",
    "        cursor.execute(\"\"\"\n",
    "            CREATE TABLE IF NOT EXISTS solicitudes_vacaciones (\n",
    "                id_solicitud INTEGER PRIMARY KEY,\n",
    "                id_empleado INTEGER,\n",
    "                fecha_inicio TEXT,\n",
    "                fecha_fin TEXT,\n",
    "                duracion_dias INTEGER,\n",
    "                fecha_solicitud TEXT,\n",
    "                estado TEXT,\n",
    "                motivo_rechazo TEXT,\n",
    "                periodo_anio INTEGER,\n",
    "                mes_solicitud INTEGER,\n",
    "                dia_semana_solicitud TEXT,\n",
    "                FOREIGN KEY (id_empleado) REFERENCES empleados(id_empleado)\n",
    "            )\n",
    "        \"\"\")\n",
    "        conn.commit()\n",
    "        print(\"Tabla 'solicitudes_vacaciones' creada exitosamente.\")\n",
    "    except sqlite3.Error as e:\n",
    "        print(f\"Error al crear la tabla 'solicitudes_vacaciones': {e}\")"
   ]
  },
  {
   "cell_type": "code",
   "execution_count": 119,
   "id": "77455a3d",
   "metadata": {},
   "outputs": [],
   "source": [
    "def crear_tabla_calendario(conn):\n",
    "    \"\"\"Crea la tabla 'calendario_laboral' en la base de datos.\"\"\"\n",
    "    try:\n",
    "        cursor = conn.cursor()\n",
    "        cursor.execute(\"\"\"\n",
    "            CREATE TABLE IF NOT EXISTS calendario_laboral (\n",
    "                fecha TEXT PRIMARY KEY,\n",
    "                es_festivo INTEGER,\n",
    "                dia_semana TEXT,\n",
    "                temporada TEXT\n",
    "            )\n",
    "        \"\"\")\n",
    "        conn.commit()\n",
    "        print(\"Tabla 'calendario_laboral' creada exitosamente.\")\n",
    "    except sqlite3.Error as e:\n",
    "        print(f\"Error al crear la tabla 'calendario_laboral': {e}\")"
   ]
  },
  {
   "cell_type": "code",
   "execution_count": 120,
   "id": "6e728fb9",
   "metadata": {},
   "outputs": [],
   "source": [
    "def crear_tabla_politicas(conn):\n",
    "    \"\"\"Crea la tabla 'politicas_vacaciones' en la base de datos.\"\"\"\n",
    "    try:\n",
    "        cursor = conn.cursor()\n",
    "        cursor.execute(\"\"\"\n",
    "            CREATE TABLE IF NOT EXISTS politicas_vacaciones (\n",
    "                departamento TEXT PRIMARY KEY,\n",
    "                max_dias_consecutivos INTEGER,\n",
    "                antiguedad_minima_meses INTEGER,\n",
    "                periodo_bloqueo_inicio TEXT,\n",
    "                periodo_bloqueo_fin TEXT,\n",
    "                prioridad_antiguedad INTEGER,\n",
    "                max_empleados_simultaneos INTEGER\n",
    "            )\n",
    "        \"\"\")\n",
    "        conn.commit()\n",
    "        print(\"Tabla 'politicas_vacaciones' creada exitosamente.\")\n",
    "    except sqlite3.Error as e:\n",
    "        print(f\"Error al crear la tabla 'politicas_vacaciones': {e}\")"
   ]
  },
  {
   "cell_type": "code",
   "execution_count": 121,
   "id": "de98b8bf",
   "metadata": {},
   "outputs": [],
   "source": [
    "def main():\n",
    "    \"\"\"Función principal para crear la base de datos y cargar los datos.\"\"\"\n",
    "    conn = crear_conexion(db_file)\n",
    "    if conn is not None:\n",
    "        crear_tabla_empleados(conn)\n",
    "        crear_tabla_solicitudes(conn)\n",
    "        crear_tabla_calendario(conn)\n",
    "        crear_tabla_politicas(conn)\n",
    "\n",
    "        cargar_csv_a_tabla(conn, empleados_csv, 'empleados')\n",
    "        cargar_csv_a_tabla(conn, solicitudes_csv, 'solicitudes_vacaciones')\n",
    "        cargar_csv_a_tabla(conn, calendario_csv, 'calendario_laboral')\n",
    "        cargar_csv_a_tabla(conn, politicas_csv, 'politicas_vacaciones')\n",
    "\n",
    "        conn.close()\n",
    "        print(\"Conexión a la base de datos cerrada.\")"
   ]
  },
  {
   "cell_type": "code",
   "execution_count": 122,
   "id": "f67fa04d",
   "metadata": {},
   "outputs": [
    {
     "name": "stdout",
     "output_type": "stream",
     "text": [
      "Conexión exitosa a la base de datos SQLite: ../data/vacaciones_empresa.db\n",
      "Tabla 'empleados' creada exitosamente.\n",
      "Tabla 'solicitudes_vacaciones' creada exitosamente.\n",
      "Tabla 'calendario_laboral' creada exitosamente.\n",
      "Tabla 'politicas_vacaciones' creada exitosamente.\n",
      "Datos cargados exitosamente desde '../data/empleados.csv' a la tabla 'empleados'.\n",
      "Datos cargados exitosamente desde '../data/solicitudes_vacaciones_con_politicas.csv' a la tabla 'solicitudes_vacaciones'.\n",
      "Datos cargados exitosamente desde '../data/calendario_laboral.csv' a la tabla 'calendario_laboral'.\n",
      "Datos cargados exitosamente desde '../data/politicas_vacaciones.csv' a la tabla 'politicas_vacaciones'.\n",
      "Conexión a la base de datos cerrada.\n"
     ]
    }
   ],
   "source": [
    "if __name__ == '__main__':\n",
    "    main()"
   ]
  }
 ],
 "metadata": {
  "kernelspec": {
   "display_name": "chronosAI-bGPFpNdy",
   "language": "python",
   "name": "python3"
  },
  "language_info": {
   "codemirror_mode": {
    "name": "ipython",
    "version": 3
   },
   "file_extension": ".py",
   "mimetype": "text/x-python",
   "name": "python",
   "nbconvert_exporter": "python",
   "pygments_lexer": "ipython3",
   "version": "3.13.3"
  }
 },
 "nbformat": 4,
 "nbformat_minor": 5
}
